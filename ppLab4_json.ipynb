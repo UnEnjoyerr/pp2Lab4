{
 "cells": [
  {
   "cell_type": "code",
   "execution_count": 25,
   "metadata": {},
   "outputs": [
    {
     "name": "stdout",
     "output_type": "stream",
     "text": [
      "Interface Status\n",
      "================================================================================\n",
      "DN                                                 Description           Speed    MTU  \n",
      "-------------------------------------------------- --------------------  ------  ------\n",
      "topology/pod-1/node-201/sys/phys-[eth1/33]                              inherit   9150\n",
      "topology/pod-1/node-201/sys/phys-[eth1/34]                              inherit   9150\n",
      "topology/pod-1/node-201/sys/phys-[eth1/35]                              inherit   9150\n",
      "topology/pod-1/node-201/sys/phys-[eth1/36]                              inherit   9150\n",
      "topology/pod-1/node-201/sys/phys-[eth1/1]                              inherit   9150\n",
      "topology/pod-1/node-201/sys/phys-[eth1/2]                              inherit   9150\n",
      "topology/pod-1/node-201/sys/phys-[eth1/3]                              inherit   9150\n",
      "topology/pod-1/node-201/sys/phys-[eth1/4]                              inherit   9150\n",
      "topology/pod-1/node-201/sys/phys-[eth1/5]                              inherit   9150\n",
      "topology/pod-1/node-201/sys/phys-[eth1/6]                              inherit   9150\n",
      "topology/pod-1/node-201/sys/phys-[eth1/7]                              inherit   9150\n",
      "topology/pod-1/node-201/sys/phys-[eth1/8]                              inherit   9150\n",
      "topology/pod-1/node-201/sys/phys-[eth1/9]                              inherit   9150\n",
      "topology/pod-1/node-201/sys/phys-[eth1/10]                              inherit   9150\n",
      "topology/pod-1/node-201/sys/phys-[eth1/11]                              inherit   9150\n",
      "topology/pod-1/node-201/sys/phys-[eth1/12]                              inherit   9150\n",
      "topology/pod-1/node-201/sys/phys-[eth1/13]                              inherit   9150\n",
      "topology/pod-1/node-201/sys/phys-[eth1/14]                              inherit   9150\n",
      "\n"
     ]
    }
   ],
   "source": [
    "import json\n",
    "with open(\"sample-data.json\") as openfile:\n",
    "    data=json.load(openfile)\n",
    "n= \"\"\"Interface Status\n",
    "================================================================================\n",
    "DN                                                 Description           Speed    MTU  \n",
    "-------------------------------------------------- --------------------  ------  ------\n",
    "\"\"\"\n",
    "for el in data[\"imdata\"]:\n",
    "    n+=el[\"l1PhysIf\"][\"attributes\"][\"dn\"]\n",
    "    n+=\"                              \"\n",
    "    n+=el[\"l1PhysIf\"][\"attributes\"][\"speed\"]\n",
    "    n+=\"   \"\n",
    "    n+=el[\"l1PhysIf\"][\"attributes\"][\"mtu\"]\n",
    "    n+=\"\\n\"\n",
    "print(n)"
   ]
  }
 ],
 "metadata": {
  "kernelspec": {
   "display_name": "Python 3",
   "language": "python",
   "name": "python3"
  },
  "language_info": {
   "codemirror_mode": {
    "name": "ipython",
    "version": 3
   },
   "file_extension": ".py",
   "mimetype": "text/x-python",
   "name": "python",
   "nbconvert_exporter": "python",
   "pygments_lexer": "ipython3",
   "version": "3.13.0"
  }
 },
 "nbformat": 4,
 "nbformat_minor": 2
}
