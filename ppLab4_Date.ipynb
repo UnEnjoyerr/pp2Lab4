{
 "cells": [
  {
   "cell_type": "code",
   "execution_count": 2,
   "metadata": {},
   "outputs": [
    {
     "name": "stdout",
     "output_type": "stream",
     "text": [
      "Current Date: 2025-02-12 16:45:31.630049\n",
      "Date five days ago: 2025-02-07 16:45:31.630049\n"
     ]
    }
   ],
   "source": [
    "from datetime import datetime, timedelta\n",
    "current_date = datetime.now()\n",
    "\n",
    "five_days_ago = current_date - timedelta(days=5)\n",
    "print(\"Current Date:\", current_date)\n",
    "print(\"Date five days ago:\", five_days_ago)"
   ]
  },
  {
   "cell_type": "code",
   "execution_count": 1,
   "metadata": {},
   "outputs": [
    {
     "name": "stdout",
     "output_type": "stream",
     "text": [
      "Yesterday: 2025-02-11 16:45:31.336866\n",
      "Today: 2025-02-12 16:45:31.336866\n",
      "Tomorrow: 2025-02-13 16:45:31.336866\n"
     ]
    }
   ],
   "source": [
    "from datetime import datetime, timedelta\n",
    "today = datetime.now()\n",
    "yesterday = today - timedelta(days=1)\n",
    "tomorrow = today + timedelta(days=1)\n",
    "print(\"Yesterday:\", yesterday)\n",
    "print(\"Today:\", today)\n",
    "print(\"Tomorrow:\", tomorrow)"
   ]
  },
  {
   "cell_type": "code",
   "execution_count": 3,
   "metadata": {},
   "outputs": [
    {
     "name": "stdout",
     "output_type": "stream",
     "text": [
      "Current Datetime: 2025-02-12 16:45:59.555279\n",
      "Datetime without microseconds: 2025-02-12 16:45:59\n"
     ]
    }
   ],
   "source": [
    "from datetime import datetime\n",
    "current_datetime = datetime.now()\n",
    "current_datetime_without_microseconds = current_datetime.replace(microsecond=0)\n",
    "print(\"Current Datetime:\", current_datetime)\n",
    "print(\"Datetime without microseconds:\", current_datetime_without_microseconds)"
   ]
  },
  {
   "cell_type": "code",
   "execution_count": 5,
   "metadata": {},
   "outputs": [
    {
     "name": "stdout",
     "output_type": "stream",
     "text": [
      "Date 1: 2024-10-09 00:00:00\n",
      "Date 2: 2025-10-01 00:00:00\n",
      "Difference in seconds: 30844800.0\n"
     ]
    }
   ],
   "source": [
    "from datetime import datetime\n",
    "date1 = datetime(2024, 10, 9)\n",
    "date2 = datetime(2025, 10, 1)\n",
    "difference = date2 - date1\n",
    "difference_in_seconds = difference.total_seconds()\n",
    "print(\"Date 1:\", date1)\n",
    "print(\"Date 2:\", date2)\n",
    "print(\"Difference in seconds:\", difference_in_seconds)"
   ]
  }
 ],
 "metadata": {
  "kernelspec": {
   "display_name": "Python 3",
   "language": "python",
   "name": "python3"
  },
  "language_info": {
   "codemirror_mode": {
    "name": "ipython",
    "version": 3
   },
   "file_extension": ".py",
   "mimetype": "text/x-python",
   "name": "python",
   "nbconvert_exporter": "python",
   "pygments_lexer": "ipython3",
   "version": "3.13.0"
  }
 },
 "nbformat": 4,
 "nbformat_minor": 2
}
